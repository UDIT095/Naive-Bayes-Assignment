{
 "cells": [
  {
   "cell_type": "code",
   "execution_count": 1,
   "id": "7c12582e-6671-4525-8e7d-39932228f574",
   "metadata": {},
   "outputs": [],
   "source": [
    "import pandas as pd\n",
    "from sklearn.model_selection import train_test_split\n",
    "from sklearn.feature_extraction.text import TfidfVectorizer\n",
    "from sklearn.naive_bayes import MultinomialNB\n",
    "from sklearn.metrics import accuracy_score, classification_report\n",
    "import nltk\n",
    "from nltk.corpus import stopwords\n",
    "from nltk.tokenize import word_tokenize\n",
    "import string\n",
    "from textblob import TextBlob"
   ]
  },
  {
   "cell_type": "code",
   "execution_count": 7,
   "id": "e73ed997-10ab-4a87-9ed9-ff945895680c",
   "metadata": {},
   "outputs": [
    {
     "name": "stderr",
     "output_type": "stream",
     "text": [
      "[nltk_data] Downloading package punkt to\n",
      "[nltk_data]     C:\\Users\\udits\\AppData\\Roaming\\nltk_data...\n",
      "[nltk_data]   Package punkt is already up-to-date!\n",
      "[nltk_data] Downloading package stopwords to\n",
      "[nltk_data]     C:\\Users\\udits\\AppData\\Roaming\\nltk_data...\n",
      "[nltk_data]   Package stopwords is already up-to-date!\n",
      "[nltk_data] Downloading package punkt_tab to\n",
      "[nltk_data]     C:\\Users\\udits\\AppData\\Roaming\\nltk_data...\n",
      "[nltk_data]   Unzipping tokenizers\\punkt_tab.zip.\n"
     ]
    },
    {
     "data": {
      "text/plain": [
       "True"
      ]
     },
     "execution_count": 7,
     "metadata": {},
     "output_type": "execute_result"
    }
   ],
   "source": [
    "nltk.download('punkt')\n",
    "nltk.download('stopwords')\n",
    "nltk.download('punkt_tab')"
   ]
  },
  {
   "cell_type": "code",
   "execution_count": 15,
   "id": "7b6076d8-6fd7-44d0-8bce-b990472c0ac9",
   "metadata": {},
   "outputs": [
    {
     "data": {
      "text/html": [
       "<div>\n",
       "<style scoped>\n",
       "    .dataframe tbody tr th:only-of-type {\n",
       "        vertical-align: middle;\n",
       "    }\n",
       "\n",
       "    .dataframe tbody tr th {\n",
       "        vertical-align: top;\n",
       "    }\n",
       "\n",
       "    .dataframe thead th {\n",
       "        text-align: right;\n",
       "    }\n",
       "</style>\n",
       "<table border=\"1\" class=\"dataframe\">\n",
       "  <thead>\n",
       "    <tr style=\"text-align: right;\">\n",
       "      <th></th>\n",
       "      <th>Data</th>\n",
       "      <th>Labels</th>\n",
       "    </tr>\n",
       "  </thead>\n",
       "  <tbody>\n",
       "    <tr>\n",
       "      <th>0</th>\n",
       "      <td>Path: cantaloupe.srv.cs.cmu.edu!magnesium.club...</td>\n",
       "      <td>alt.atheism</td>\n",
       "    </tr>\n",
       "    <tr>\n",
       "      <th>1</th>\n",
       "      <td>Newsgroups: alt.atheism\\nPath: cantaloupe.srv....</td>\n",
       "      <td>alt.atheism</td>\n",
       "    </tr>\n",
       "    <tr>\n",
       "      <th>2</th>\n",
       "      <td>Path: cantaloupe.srv.cs.cmu.edu!das-news.harva...</td>\n",
       "      <td>alt.atheism</td>\n",
       "    </tr>\n",
       "    <tr>\n",
       "      <th>3</th>\n",
       "      <td>Path: cantaloupe.srv.cs.cmu.edu!magnesium.club...</td>\n",
       "      <td>alt.atheism</td>\n",
       "    </tr>\n",
       "    <tr>\n",
       "      <th>4</th>\n",
       "      <td>Xref: cantaloupe.srv.cs.cmu.edu alt.atheism:53...</td>\n",
       "      <td>alt.atheism</td>\n",
       "    </tr>\n",
       "  </tbody>\n",
       "</table>\n",
       "</div>"
      ],
      "text/plain": [
       "                                                Data       Labels\n",
       "0  Path: cantaloupe.srv.cs.cmu.edu!magnesium.club...  alt.atheism\n",
       "1  Newsgroups: alt.atheism\\nPath: cantaloupe.srv....  alt.atheism\n",
       "2  Path: cantaloupe.srv.cs.cmu.edu!das-news.harva...  alt.atheism\n",
       "3  Path: cantaloupe.srv.cs.cmu.edu!magnesium.club...  alt.atheism\n",
       "4  Xref: cantaloupe.srv.cs.cmu.edu alt.atheism:53...  alt.atheism"
      ]
     },
     "execution_count": 15,
     "metadata": {},
     "output_type": "execute_result"
    }
   ],
   "source": [
    "# Load the Dataset\n",
    "df= pd.read_csv('blogs.csv')\n",
    "df.head()\n"
   ]
  },
  {
   "cell_type": "code",
   "execution_count": 4,
   "id": "aa59febc-3ac0-43ab-8703-0af272e3932e",
   "metadata": {},
   "outputs": [
    {
     "name": "stdout",
     "output_type": "stream",
     "text": [
      "<class 'pandas.core.frame.DataFrame'>\n",
      "RangeIndex: 2000 entries, 0 to 1999\n",
      "Data columns (total 2 columns):\n",
      " #   Column  Non-Null Count  Dtype \n",
      "---  ------  --------------  ----- \n",
      " 0   Data    2000 non-null   object\n",
      " 1   Labels  2000 non-null   object\n",
      "dtypes: object(2)\n",
      "memory usage: 31.4+ KB\n",
      "None\n"
     ]
    }
   ],
   "source": [
    "print(df.info())"
   ]
  },
  {
   "cell_type": "code",
   "execution_count": 5,
   "id": "d644db86-6196-4520-bb0f-76da47fa9aab",
   "metadata": {},
   "outputs": [
    {
     "name": "stdout",
     "output_type": "stream",
     "text": [
      "Labels\n",
      "alt.atheism                 100\n",
      "comp.graphics               100\n",
      "talk.politics.misc          100\n",
      "talk.politics.mideast       100\n",
      "talk.politics.guns          100\n",
      "soc.religion.christian      100\n",
      "sci.space                   100\n",
      "sci.med                     100\n",
      "sci.electronics             100\n",
      "sci.crypt                   100\n",
      "rec.sport.hockey            100\n",
      "rec.sport.baseball          100\n",
      "rec.motorcycles             100\n",
      "rec.autos                   100\n",
      "misc.forsale                100\n",
      "comp.windows.x              100\n",
      "comp.sys.mac.hardware       100\n",
      "comp.sys.ibm.pc.hardware    100\n",
      "comp.os.ms-windows.misc     100\n",
      "talk.religion.misc          100\n",
      "Name: count, dtype: int64\n"
     ]
    }
   ],
   "source": [
    "print(df['Labels'].value_counts())"
   ]
  },
  {
   "cell_type": "code",
   "execution_count": 14,
   "id": "c8c8befa-5b34-48f7-8b74-974c44fb44b3",
   "metadata": {},
   "outputs": [],
   "source": [
    "# Preprocessing\n",
    "def preprocess_text(text):\n",
    "    if isinstance(text, str):  # Check if the input is a string\n",
    "        text = text.lower()\n",
    "        text = text.translate(str.maketrans('', '', string.punctuation))\n",
    "        words = word_tokenize(text)\n",
    "        stop_words = set(stopwords.words('english'))\n",
    "        words = [word for word in words if word not in stop_words]\n",
    "        return \" \".join(words)\n",
    "    else:\n",
    "        return \"\"  # Return an empty string for non-string values\n",
    "\n",
    "df['Data'] = df['Data'].apply(preprocess_text)"
   ]
  },
  {
   "cell_type": "code",
   "execution_count": 16,
   "id": "04da3fb4-9ba5-45cd-a5fe-861bc20aedcc",
   "metadata": {},
   "outputs": [],
   "source": [
    "# Feature Extraction \n",
    "vectorizer = TfidfVectorizer()\n",
    "X = vectorizer.fit_transform(df['Data'])\n",
    "y = df['Labels']"
   ]
  },
  {
   "cell_type": "code",
   "execution_count": 17,
   "id": "700e11f6-6eda-4cb4-9f50-7c338e4d50d5",
   "metadata": {},
   "outputs": [],
   "source": [
    "# Split the Data:\n",
    "X_train, X_test, y_train, y_test = train_test_split(X, y, test_size=0.2, random_state=42)"
   ]
  },
  {
   "cell_type": "code",
   "execution_count": 18,
   "id": "7e40ee1f-4d57-4350-8705-e34242788a6f",
   "metadata": {},
   "outputs": [],
   "source": [
    "#Implement and Train the Naive Bayes Classifier\n",
    "nb_classifier = MultinomialNB()\n",
    "nb_classifier.fit(X_train, y_train)\n",
    "y_pred = nb_classifier.predict(X_test)"
   ]
  },
  {
   "cell_type": "code",
   "execution_count": 20,
   "id": "bcf30941-db43-480e-aabc-59cc21f472ff",
   "metadata": {},
   "outputs": [],
   "source": [
    "# Sentiment Analysis using TextBlob\n",
    "def get_sentiment(text):\n",
    "    analysis = TextBlob(text)\n",
    "    if analysis.sentiment.polarity > 0:\n",
    "        return 'positive'\n",
    "    elif analysis.sentiment.polarity < 0:\n",
    "        return 'negative'\n",
    "    else:\n",
    "        return 'neutral'\n",
    "\n",
    "df['Sentiment'] = df['Data'].apply(get_sentiment)"
   ]
  },
  {
   "cell_type": "code",
   "execution_count": 21,
   "id": "869b76b9-bd00-4109-a69d-22d3a8e9de10",
   "metadata": {},
   "outputs": [
    {
     "name": "stdout",
     "output_type": "stream",
     "text": [
      "Sentiment\n",
      "positive    1543\n",
      "negative     457\n",
      "Name: count, dtype: int64\n",
      "Labels                    Sentiment\n",
      "alt.atheism               positive     77\n",
      "                          negative     23\n",
      "comp.graphics             positive     76\n",
      "                          negative     24\n",
      "comp.os.ms-windows.misc   positive     78\n",
      "                          negative     22\n",
      "comp.sys.ibm.pc.hardware  positive     80\n",
      "                          negative     20\n",
      "comp.sys.mac.hardware     positive     76\n",
      "                          negative     24\n",
      "comp.windows.x            positive     73\n",
      "                          negative     27\n",
      "misc.forsale              positive     84\n",
      "                          negative     16\n",
      "rec.autos                 positive     83\n",
      "                          negative     17\n",
      "rec.motorcycles           positive     74\n",
      "                          negative     26\n",
      "rec.sport.baseball        positive     71\n",
      "                          negative     29\n",
      "rec.sport.hockey          positive     66\n",
      "                          negative     34\n",
      "sci.crypt                 positive     81\n",
      "                          negative     19\n",
      "sci.electronics           positive     81\n",
      "                          negative     19\n",
      "sci.med                   positive     71\n",
      "                          negative     29\n",
      "sci.space                 positive     73\n",
      "                          negative     27\n",
      "soc.religion.christian    positive     87\n",
      "                          negative     13\n",
      "talk.politics.guns        positive     70\n",
      "                          negative     30\n",
      "talk.politics.mideast     positive     78\n",
      "                          negative     22\n",
      "talk.politics.misc        positive     78\n",
      "                          negative     22\n",
      "talk.religion.misc        positive     86\n",
      "                          negative     14\n",
      "Name: count, dtype: int64\n"
     ]
    }
   ],
   "source": [
    "# Examine Sentiment Distribution\n",
    "print(df['Sentiment'].value_counts())\n",
    "print(df.groupby('Labels')['Sentiment'].value_counts())"
   ]
  },
  {
   "cell_type": "markdown",
   "id": "9fe63d24-f014-46ee-a6eb-e4faba0b5879",
   "metadata": {},
   "source": [
    "Sentiment Distribution\n",
    "1) Overall Sentiment:\n",
    "- The dataset exhibits a clear tendency towards positive sentiment, with a significantly larger proportion of blog posts categorized as positive compared to negative.\n",
    "- This suggests that, in general, the content within these blogs leans towards expressing favorable opinions or experiences.\n",
    "\n",
    "2) Sentiment Variation Across Categories:\n",
    "- While overall sentiment is positive, there's substantial variation across different blog categories.\n",
    "- Categories like \"soc.religion.christian\" and \"rec.autos\" display a notably higher concentration of positive sentiment, indicating that discussions within these areas tend to be more optimistic.\n",
    "- Conversely, categories such as \"alt.atheism\" and \"talk.politics.guns\" show a relatively higher presence of negative sentiment, reflecting the potentially contentious nature of these topics."
   ]
  },
  {
   "cell_type": "code",
   "execution_count": 22,
   "id": "4aef9b32-3992-4b82-b440-008a56080d89",
   "metadata": {},
   "outputs": [
    {
     "name": "stdout",
     "output_type": "stream",
     "text": [
      "Accuracy: 0.73\n",
      "                          precision    recall  f1-score   support\n",
      "\n",
      "             alt.atheism       0.58      0.83      0.68        18\n",
      "           comp.graphics       0.81      0.72      0.76        18\n",
      " comp.os.ms-windows.misc       0.77      0.91      0.83        22\n",
      "comp.sys.ibm.pc.hardware       0.75      0.84      0.79        25\n",
      "   comp.sys.mac.hardware       0.83      0.48      0.61        21\n",
      "          comp.windows.x       1.00      0.16      0.28        25\n",
      "            misc.forsale       1.00      0.72      0.84        18\n",
      "               rec.autos       0.76      0.89      0.82        18\n",
      "         rec.motorcycles       0.87      0.81      0.84        16\n",
      "      rec.sport.baseball       0.94      0.83      0.88        18\n",
      "        rec.sport.hockey       0.62      1.00      0.77        15\n",
      "               sci.crypt       0.58      1.00      0.73        19\n",
      "         sci.electronics       0.77      0.62      0.69        16\n",
      "                 sci.med       0.81      0.76      0.79        17\n",
      "               sci.space       1.00      0.90      0.95        21\n",
      "  soc.religion.christian       0.77      1.00      0.87        23\n",
      "      talk.politics.guns       0.93      0.50      0.65        28\n",
      "   talk.politics.mideast       0.95      0.95      0.95        20\n",
      "      talk.politics.misc       0.35      0.83      0.49        18\n",
      "      talk.religion.misc       0.50      0.21      0.29        24\n",
      "\n",
      "                accuracy                           0.73       400\n",
      "               macro avg       0.78      0.75      0.73       400\n",
      "            weighted avg       0.79      0.73      0.71       400\n",
      "\n"
     ]
    }
   ],
   "source": [
    "# Evaluate Naive Bayes Classifier\n",
    "print(\"Accuracy:\", accuracy_score(y_test, y_pred))\n",
    "print(classification_report(y_test, y_pred))"
   ]
  },
  {
   "cell_type": "markdown",
   "id": "e2c489dc-6650-4007-95de-85a208b82fbc",
   "metadata": {},
   "source": [
    "Naive Bayes Classification Performance\n",
    "\n",
    "The Naive Bayes classifier achieved an overall accuracy of 0.73 (73%).\n",
    "\n",
    "- Strengths: The model performs well for categories like comp.os.ms-windows.misc, rec.sport.baseball, sci.space, and talk.politics.mideast, exhibiting high precision, recall, and F1-scores.\n",
    "- Weaknesses: Performance is poor for categories like comp.windows.x, talk.religion.misc, and comp.sys.mac.hardware with very low precision and recall.\n",
    "- Implications: The model is effective for certain topics but struggles with others, potentially due to data imbalances or topic complexity. Further analysis is needed to address the low-performing categories."
   ]
  },
  {
   "cell_type": "markdown",
   "id": "35c4d069-bfb5-44a7-a52b-e9dd7f7ed4fd",
   "metadata": {},
   "source": [
    "Challenges encountered during classification:\n",
    "\n",
    "- Data Imbalance: Uneven category representation can bias results.\n",
    "- Topic Overlap: Similar vocabulary across categories hinders distinction.\n",
    "- Language Ambiguity: Informal language and context confuse the model.\n",
    "- Limited Data: Insufficient training samples affect category learning.\n",
    "- TF-IDF Limitations: Ignores semantic relationships and word order.\n",
    "- Preprocessing Loss: Essential information may be removed.\n",
    "- Naive Bayes Assumptions: Feature independence doesn't always hold."
   ]
  },
  {
   "cell_type": "code",
   "execution_count": null,
   "id": "7eebe527-12b7-449a-ab83-bdfb81d0556a",
   "metadata": {},
   "outputs": [],
   "source": []
  }
 ],
 "metadata": {
  "kernelspec": {
   "display_name": "Python 3 (ipykernel)",
   "language": "python",
   "name": "python3"
  },
  "language_info": {
   "codemirror_mode": {
    "name": "ipython",
    "version": 3
   },
   "file_extension": ".py",
   "mimetype": "text/x-python",
   "name": "python",
   "nbconvert_exporter": "python",
   "pygments_lexer": "ipython3",
   "version": "3.12.7"
  }
 },
 "nbformat": 4,
 "nbformat_minor": 5
}
